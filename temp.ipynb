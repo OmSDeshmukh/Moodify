{
 "cells": [
  {
   "cell_type": "code",
   "execution_count": 1,
   "metadata": {},
   "outputs": [
    {
     "name": "stdout",
     "output_type": "stream",
     "text": [
      "Song Name: afraid gear (tellmeimlostw/ou)\n",
      "Artist Name: es.cher, Choruses from the Rock\n",
      "Album Name: genr.es (let go/what breaks-1)\n",
      "Preview URL: https://p.scdn.co/mp3-preview/c419e696ab57179ed63e5b311d80bcfdd7471f4b?cid=e09249fc437947f68124bcc43fbc2046\n",
      "Duration: 144 seconds\n",
      "----------------------------------------\n",
      "Song Name: Rockstar - 2020 Remaster\n",
      "Artist Name: Nickelback\n",
      "Album Name: All The Right Reasons (15th Anniversary Expanded Edition)\n",
      "Preview URL: https://p.scdn.co/mp3-preview/f809ee87b8fa7681299c4766851a3c80974f3c95?cid=e09249fc437947f68124bcc43fbc2046\n",
      "Duration: 255 seconds\n",
      "----------------------------------------\n",
      "Song Name: Bigger Than Punk Rock\n",
      "Artist Name: Sonic Boom Six\n",
      "Album Name: The Ruff Guide To Genre-Terrorism\n",
      "Preview URL: https://p.scdn.co/mp3-preview/d896dadbc61a092051bdc9661709c105f30636ed?cid=e09249fc437947f68124bcc43fbc2046\n",
      "Duration: 209 seconds\n",
      "----------------------------------------\n",
      "Song Name: Nightmare (The Devil)\n",
      "Artist Name: Fame on Fire\n",
      "Album Name: Nightmare (The Devil)\n",
      "Preview URL: https://p.scdn.co/mp3-preview/b7955f445e72f9ab9d0ce8e73acf82672b3e5dc5?cid=e09249fc437947f68124bcc43fbc2046\n",
      "Duration: 201 seconds\n",
      "----------------------------------------\n",
      "Song Name: lie2.me 167bpm\n",
      "Artist Name: es.cher, Choruses from the Rock\n",
      "Album Name: genr.es (let go/what breaks-1)\n",
      "Preview URL: https://p.scdn.co/mp3-preview/f3c687e1d1b66930e3994f477bb54690fa9bfb29?cid=e09249fc437947f68124bcc43fbc2046\n",
      "Duration: 150 seconds\n",
      "----------------------------------------\n",
      "Song Name: You're Gonna Get It\n",
      "Artist Name: 311\n",
      "Album Name: You're Gonna Get It\n",
      "Preview URL: https://p.scdn.co/mp3-preview/2bef0d1a4ac402a8b9180d4f83da957c5364a845?cid=e09249fc437947f68124bcc43fbc2046\n",
      "Duration: 169 seconds\n",
      "----------------------------------------\n",
      "Song Name: Rocking Around\n",
      "Artist Name: Norman Sann\n",
      "Album Name: The Genre Bending Holiday EP\n",
      "Preview URL: https://p.scdn.co/mp3-preview/5786ba0a5b9d8bf78fee5825e699043ce947d68b?cid=e09249fc437947f68124bcc43fbc2046\n",
      "Duration: 118 seconds\n",
      "----------------------------------------\n",
      "Song Name: Novocaine\n",
      "Artist Name: Too Close To Touch, Bad Omens\n",
      "Album Name: Novocaine\n",
      "Preview URL: https://p.scdn.co/mp3-preview/572d5807a7ef7620eee2ab99b39bf6cbee2d7958?cid=e09249fc437947f68124bcc43fbc2046\n",
      "Duration: 295 seconds\n",
      "----------------------------------------\n",
      "Song Name: Punk Rock Ain't A Genre\n",
      "Artist Name: Carry On, October!\n",
      "Album Name: Once More, With Feeling!\n",
      "Preview URL: https://p.scdn.co/mp3-preview/5e53b1b4d5d88191053acf59e988ed06620d845b?cid=e09249fc437947f68124bcc43fbc2046\n",
      "Duration: 118 seconds\n",
      "----------------------------------------\n",
      "Song Name: Fall In Line\n",
      "Artist Name: Mushroomhead\n",
      "Album Name: Fall in Line\n",
      "Preview URL: https://p.scdn.co/mp3-preview/5f1f689f873f8907667da7e59fc35fea19d9573b?cid=e09249fc437947f68124bcc43fbc2046\n",
      "Duration: 284 seconds\n",
      "----------------------------------------\n"
     ]
    }
   ],
   "source": [
    "import json\n",
    "\n",
    "# Load the JSON data\n",
    "with open('recommended_tracks.json') as f:\n",
    "    data = json.load(f)\n",
    "\n",
    "# Extract the necessary information\n",
    "tracks = data['tracks']['items']\n",
    "\n",
    "for track in tracks:\n",
    "    song_name = track['name']\n",
    "    artist_name = \", \".join([artist['name'] for artist in track['artists']])\n",
    "    album_name = track['album']['name']\n",
    "    preview_url = track['preview_url']\n",
    "    duration_ms = track['duration_ms']\n",
    "    duration_sec = duration_ms // 1000\n",
    "\n",
    "    print(f\"Song Name: {song_name}\")\n",
    "    print(f\"Artist Name: {artist_name}\")\n",
    "    print(f\"Album Name: {album_name}\")\n",
    "    print(f\"Preview URL: {preview_url}\")\n",
    "    print(f\"Duration: {duration_sec} seconds\")\n",
    "    print('-' * 40)"
   ]
  },
  {
   "cell_type": "code",
   "execution_count": null,
   "metadata": {},
   "outputs": [],
   "source": [
    "print(results.keys)"
   ]
  }
 ],
 "metadata": {
  "kernelspec": {
   "display_name": ".venv",
   "language": "python",
   "name": "python3"
  },
  "language_info": {
   "codemirror_mode": {
    "name": "ipython",
    "version": 3
   },
   "file_extension": ".py",
   "mimetype": "text/x-python",
   "name": "python",
   "nbconvert_exporter": "python",
   "pygments_lexer": "ipython3",
   "version": "3.10.7"
  }
 },
 "nbformat": 4,
 "nbformat_minor": 2
}
